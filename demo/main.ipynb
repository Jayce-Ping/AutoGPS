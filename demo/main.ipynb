{
 "cells": [
  {
   "cell_type": "markdown",
   "id": "20a3be82",
   "metadata": {},
   "source": [
    "**This is an interactive demo for any geometry problem, where you can solve any input problem diagram-text pair.**\n",
    "\n",
    "In this demo, we implemented a simple diagram parser instead of the [PGDP-Net](https://github.com/mingliangzhang2018/PGDP/tree/main) mentioned in our paper. There are two following reasons:\n",
    "1. The PGDP-Net is based on **cuda-10.1** and **gcc 5.4.0**, both deprecated. Re-implementation on the latest enviroment requires a lot of human effort and time.\n",
    "2. PGDP-Net's dependence on older versions of **Cuda** conflictes with the advanced transformers environment, making it difficult to run PGDP-Net as well as locally deployed multimodal models in the same environment.\n",
    "\n",
    "We reproduced PGDP-Net on a older computer and provided the results in the `datasets/geometry3k.zip` and `dataset/PGDP9K.zip`. \n",
    "If you only want to reproduce our main results, please follow the instruction in `ReadMe.md`, by unzip the provided datasets."
   ]
  },
  {
   "cell_type": "markdown",
   "id": "8d3587af",
   "metadata": {},
   "source": [
    "# Import Libs"
   ]
  },
  {
   "cell_type": "code",
   "execution_count": 1,
   "id": "27a20844",
   "metadata": {},
   "outputs": [
    {
     "name": "stderr",
     "output_type": "stream",
     "text": [
      "/data/pbw/.conda/envs/autogps-test/lib/python3.12/site-packages/transformers/utils/hub.py:105: FutureWarning: Using `TRANSFORMERS_CACHE` is deprecated and will be removed in v5 of Transformers. Use `HF_HOME` instead.\n",
      "  warnings.warn(\n"
     ]
    }
   ],
   "source": [
    "import os\n",
    "import sys\n",
    "import yaml\n",
    "from ultralytics import YOLO\n",
    "import matplotlib\n",
    "import torch\n",
    "import segmentation_models_pytorch as smp\n",
    "from transformers import TrOCRProcessor\n",
    "from optimum.onnxruntime import ORTModelForVision2Seq"
   ]
  },
  {
   "cell_type": "code",
   "execution_count": 2,
   "id": "edafc563",
   "metadata": {},
   "outputs": [],
   "source": [
    "sys.path.append(os.path.abspath('..'))\n",
    "sys.path.append(os.path.abspath('../multimodal_formalizer'))\n",
    "sys.path.append(os.path.abspath('../symbolic_reasoner'))\n",
    "from annotator import build_annotation_for_image, plot_annotation\n",
    "from multimodal_formalizer.text_parser import parse, is_success"
   ]
  },
  {
   "cell_type": "markdown",
   "id": "0a8879be",
   "metadata": {},
   "source": [
    "# Config Our Diagram Parser\n",
    "\n",
    "Our diagram parser consists of three models:\n",
    "- A fine-tuned light-weight [Yolo-11n](https://github.com/ultralytics/ultralytics) model for object detection\n",
    "- a fine-tuned light-weight UNet model for geometric line segmentation\n",
    "- A OCR model [Pix2Text](https://github.com/breezedeus/Pix2Text) to extract the text content."
   ]
  },
  {
   "cell_type": "code",
   "execution_count": 3,
   "id": "5cd3da16",
   "metadata": {},
   "outputs": [
    {
     "name": "stderr",
     "output_type": "stream",
     "text": [
      "Using a slow image processor as `use_fast` is unset and a slow processor was saved with this model. `use_fast=True` will be the default behavior in v4.52, even if the model was saved with a slow processor. This will result in minor differences in outputs. You'll still be able to use a slow processor with `use_fast=False`.\n"
     ]
    }
   ],
   "source": [
    "class_index_file = 'config/yolo_class_to_index.yaml'\n",
    "yolo_model_path = \"models/best-yolo11n-seg.pt\"\n",
    "unet_model_path = 'models/best-unet.pth'\n",
    "ocr_model_name = \"breezedeus/pix2text-mfr\"\n",
    "with open(class_index_file, 'r') as f:\n",
    "    class_to_index = yaml.safe_load(f)\n",
    "\n",
    "yolo_model = YOLO(yolo_model_path)\n",
    "unet_model = smp.Unet(encoder_name=\"mobilenet_v2\", encoder_weights=\"imagenet\", in_channels=3, classes=1)\n",
    "unet_checkpoint = torch.load(unet_model_path, map_location='cuda')\n",
    "unet_model.load_state_dict(unet_checkpoint)\n",
    "unet_model = unet_model.cuda()\n",
    "ocr_processor = TrOCRProcessor.from_pretrained(ocr_model_name)\n",
    "ocr_model = ORTModelForVision2Seq.from_pretrained(ocr_model_name, use_cache=False) # use_cache=False for ONNX models often\n",
    "# InterGPS utilitized commercial tool \"Mathpix\" to extract text content. \n",
    "# The PGDP-Net does not include any OCR model but extract ground-truth text content from human annotations.\n",
    "# We use the state-of-art open-source OCR model \"Pix2Text\" for this task."
   ]
  },
  {
   "cell_type": "markdown",
   "id": "593c91eb",
   "metadata": {},
   "source": [
    "# Problem Formalization"
   ]
  },
  {
   "cell_type": "code",
   "execution_count": 4,
   "id": "7c99ae11",
   "metadata": {},
   "outputs": [],
   "source": [
    "# Path to example problem image and text\n",
    "problem_image_path = 'example/problem.png'\n",
    "problem_text = \"Find m \\\\angle CAM.\""
   ]
  },
  {
   "cell_type": "code",
   "execution_count": 5,
   "id": "f6209243",
   "metadata": {},
   "outputs": [],
   "source": [
    "# Parse the problem diagram to extract geometric information\n",
    "diagram_annotation = build_annotation_for_image(\n",
    "    image_path=problem_image_path,\n",
    "    class_to_index=class_to_index,\n",
    "    yolo_model=yolo_model,\n",
    "    unet_model=unet_model,\n",
    "    ocr_processor=ocr_processor,\n",
    "    ocr_model=ocr_model\n",
    ")"
   ]
  },
  {
   "cell_type": "code",
   "execution_count": 6,
   "id": "3bc3a14e",
   "metadata": {},
   "outputs": [
    {
     "name": "stdout",
     "output_type": "stream",
     "text": [
      "Text parsing success: True\n",
      "Logic forms: ['Find(MeasureOf(Angle(C,A,M)))']\n"
     ]
    }
   ],
   "source": [
    "# Parse the problem text and convert to logic forms\n",
    "text_logic_forms, output_text, reduced_text = parse(problem_text)\n",
    "success = is_success(logic_forms=text_logic_forms, text=reduced_text)\n",
    "print(f\"Text parsing success: {success}\")\n",
    "print(f\"Logic forms: {text_logic_forms}\")"
   ]
  },
  {
   "cell_type": "code",
   "execution_count": 7,
   "id": "82426ca8",
   "metadata": {},
   "outputs": [],
   "source": [
    "# Filter the unnecessary keys from the diagram annotation\n",
    "diagram_keys = ['point_positions', 'line_instances', 'circle_instances']\n",
    "problem_annotation = {}\n",
    "for key in diagram_keys:\n",
    "    if key not in diagram_annotation:\n",
    "        raise ValueError(f\"Key '{key}' not found in diagram_annotation.\")\n",
    "\n",
    "    problem_annotation[key] = diagram_annotation[key]\n",
    "\n",
    "problem_annotation['point_instances'] = list(problem_annotation['point_positions'].keys())\n",
    "\n",
    "problem_annotation['logic_forms'] = diagram_annotation['diagram_logic_forms'] + text_logic_forms"
   ]
  },
  {
   "cell_type": "code",
   "execution_count": 8,
   "id": "215ded6c",
   "metadata": {},
   "outputs": [],
   "source": [
    "# Plot the annotated problem image. A new image named 'problem_annotation.png' will be saved in the 'example' directory.\n",
    "plot_annotation(\n",
    "    image_path=problem_image_path,\n",
    "    annotation=diagram_annotation,\n",
    "    point_id_to_identifier=diagram_annotation['point_id_to_identifier'],\n",
    "    output_path='example/problem_annotation.png',\n",
    ")"
   ]
  },
  {
   "cell_type": "code",
   "execution_count": 9,
   "id": "88c3b4fb",
   "metadata": {},
   "outputs": [
    {
     "name": "stdout",
     "output_type": "stream",
     "text": [
      "- Problem formalization:\n",
      "\n",
      "PointLiesOnLine(B, Line(A, C))\n",
      "PointLiesOnLine(D, Line(N, T))\n",
      "PointLiesOnCircle(A, Circle(M, r_0))\n",
      "PointLiesOnCircle(C, Circle(M, r_0))\n",
      "PointLiesOnCircle(T, Circle(M, r_0))\n",
      "PointLiesOnCircle(N, Circle(M, r_0))\n",
      "Equals(MeasureOf(Angle(M, T, D)), 28)\n",
      "Equals(LengthOf(Line(B, M)), LengthOf(Line(D, M)))\n",
      "Perpendicular(Line(D, T), Line(D, M))\n",
      "Perpendicular(Line(A, B), Line(B, M))\n",
      "Find(MeasureOf(Angle(C,A,M)))\n"
     ]
    }
   ],
   "source": [
    "# Combine the diagram logic forms and text logic forms\n",
    "logic_forms = problem_annotation['logic_forms']\n",
    "print(\"- Problem formalization:\\n\")\n",
    "for logic_form in logic_forms:\n",
    "    print(logic_form)"
   ]
  },
  {
   "cell_type": "markdown",
   "id": "f2ecd53a",
   "metadata": {},
   "source": [
    "The diagram logic forms and text logic forms should be aligned by a MLLM.\n",
    "\n",
    "For simplicity, we skip the Multimodal Alignment step here and directly use the combined logic forms.\n",
    "\n",
    "More about the Multimodal Alignment step can be found in the **multimodal_formalizer** module."
   ]
  },
  {
   "cell_type": "markdown",
   "id": "487847ab",
   "metadata": {},
   "source": [
    "# Problem Solving"
   ]
  },
  {
   "cell_type": "code",
   "execution_count": 10,
   "id": "bffe2eee",
   "metadata": {},
   "outputs": [],
   "source": [
    "from symbolic_reasoner.problem import Problem\n",
    "from symbolic_reasoner.solver import Solver"
   ]
  },
  {
   "cell_type": "code",
   "execution_count": 11,
   "id": "ac9e76fb",
   "metadata": {},
   "outputs": [
    {
     "data": {
      "image/png": "[encoded data removed]",
      "text/plain": [
       "<Figure size 640x480 with 1 Axes>"
      ]
     },
     "metadata": {},
     "output_type": "display_data"
    }
   ],
   "source": [
    "# Analyze the problem and create a Problem instance\n",
    "problem = Problem(**problem_annotation)\n",
    "# Plot the topological graph of the problem and save.\n",
    "# The problem_topological_graph.png should be isomorphic to the problem_annotation.png.\n",
    "problem.topological_graph.plot(save_path='example/problem_topological_graph.png')"
   ]
  },
  {
   "cell_type": "code",
   "execution_count": 12,
   "id": "4ec8913b",
   "metadata": {},
   "outputs": [],
   "source": [
    "# Create a Solver instance with the definitions and theorems files.\n",
    "# Initialize the Solver based on the problem annotation.\n",
    "definitions_file_path = '../symbolic_reasoner/definitions.txt'\n",
    "theorem_file_path = '../symbolic_reasoner/theorems.txt'\n",
    "solver = Solver(\n",
    "    definitions_file_path=definitions_file_path,\n",
    "    theorems_file_path=theorem_file_path,\n",
    "    problem_data=problem_annotation\n",
    ")"
   ]
  },
  {
   "cell_type": "code",
   "execution_count": 14,
   "id": "ab11adb8",
   "metadata": {},
   "outputs": [
    {
     "name": "stdout",
     "output_type": "stream",
     "text": [
      "Solution found\n",
      "Solution: Equals(0.4886921906, MeasureOf(Angle(C, A, M)))\n"
     ]
    }
   ],
   "source": [
    "# Solve the problem with 2 iterations. The solution should be found\n",
    "sol = solver.solve(max_depth=2, max_deduction_iteration=1, max_algebraic_reasoning_iteration=1)\n",
    "if sol:\n",
    "    print(\"Solution found\")\n",
    "    print(\"Solution:\", sol)\n",
    "else:\n",
    "    print(\"No solution found\")"
   ]
  },
  {
   "cell_type": "code",
   "execution_count": 15,
   "id": "3913d2a0",
   "metadata": {},
   "outputs": [],
   "source": [
    "# Get the corresponding node in the proof graph and find the minimal proof subgraph for the solution.\n",
    "sol_node = solver.proof_graph.find_node_by_predicate(sol)\n",
    "minimal_proof = solver.proof_graph.find_minimal_subgraph_for_goal(sol_node)"
   ]
  },
  {
   "cell_type": "code",
   "execution_count": 16,
   "id": "285eb797",
   "metadata": {},
   "outputs": [],
   "source": [
    "from symbolic_reasoner.proof_graph_format import proof_graph_to_natural_language"
   ]
  },
  {
   "cell_type": "code",
   "execution_count": 17,
   "id": "a2cc9e28",
   "metadata": {},
   "outputs": [
    {
     "name": "stdout",
     "output_type": "stream",
     "text": [
      "Step 1:\n",
      "Theorem: Known facts\n",
      "Premises : start\n",
      "Conclusions: ∠CAM, 3.14 = pi, BC ⊥ BM, ∠MNT, pi * (28 / 180) = ∠DTM, B on AC, C on ⊙(M, r_0), ⊙(M, r_0), DM ⊥ DN, D on NT, BM = DM, AB ⊥ BM, N on ⊙(M, r_0)\n",
      "\n",
      "Step 2:\n",
      "Theorem: Perpendicular to Right Angle\n",
      "Premises : BC ⊥ BM\n",
      "Conclusions: pi / 2 = ∠CBM\n",
      "\n",
      "Step 3:\n",
      "Theorem: Solve Linear Equation System\n",
      "Premises : pi * (28 / 180) = ∠DTM, 3.14 = pi\n",
      "Conclusions: 0.49 = ∠DTM\n",
      "\n",
      "Step 4:\n",
      "Theorem: Same Angle\n",
      "Premises : B on AC, ∠CAM\n",
      "Conclusions: ∠BAM = ∠CAM\n",
      "\n",
      "Step 5:\n",
      "Theorem: Point On Circle Def\n",
      "Premises : C on ⊙(M, r_0)\n",
      "Conclusions: r_0 = CM\n",
      "\n",
      "Step 6:\n",
      "Theorem: Perpendicular to Right Angle\n",
      "Premises : DM ⊥ DN\n",
      "Conclusions: pi / 2 = ∠NDM\n",
      "\n",
      "Step 7:\n",
      "Theorem: Same Angle\n",
      "Premises : D on NT, ∠MNT\n",
      "Conclusions: ∠MND = ∠MNT\n",
      "\n",
      "Step 8:\n",
      "Theorem: Circle Vertical Theorem\n",
      "Premises : ⊙(M, r_0), DM ⊥ DN, D on NT\n",
      "Conclusions: △DMN ≅ △DMT\n",
      "\n",
      "Step 9:\n",
      "Theorem: Circle Vertical Theorem\n",
      "Premises : ⊙(M, r_0), B on AC, AB ⊥ BM\n",
      "Conclusions: △ABM ≅ △CBM\n",
      "\n",
      "Step 10:\n",
      "Theorem: Point On Circle Def\n",
      "Premises : N on ⊙(M, r_0)\n",
      "Conclusions: r_0 = MN\n",
      "\n",
      "Step 11:\n",
      "Theorem: Transtivity of Equivalence\n",
      "Premises : pi / 2 = ∠NDM, pi / 2 = ∠CBM\n",
      "Conclusions: ∠CBM = ∠NDM\n",
      "\n",
      "Step 12:\n",
      "Theorem: Congruent Definition\n",
      "Premises : △DMN ≅ △DMT\n",
      "Conclusions: ∠DTM = ∠MND\n",
      "\n",
      "Step 13:\n",
      "Theorem: Congruent Definition\n",
      "Premises : △ABM ≅ △CBM\n",
      "Conclusions: ∠BAM = ∠MCB\n",
      "\n",
      "Step 14:\n",
      "Theorem: Transtivity of Equivalence\n",
      "Premises : r_0 = CM, r_0 = MN\n",
      "Conclusions: CM = MN\n",
      "\n",
      "Step 15:\n",
      "Theorem: Transtivity of Equivalence\n",
      "Premises : ∠DTM = ∠MND, 0.49 = ∠DTM, ∠MND = ∠MNT\n",
      "Conclusions: 0.49 = ∠MNT\n",
      "\n",
      "Step 16:\n",
      "Theorem: Transtivity of Equivalence\n",
      "Premises : ∠BAM = ∠MCB, ∠BAM = ∠CAM\n",
      "Conclusions: ∠CAM = ∠MCB\n",
      "\n",
      "Step 17:\n",
      "Theorem: Hypotenuse-Leg Congruent Theorem\n",
      "Premises : CM = MN, ∠CBM = ∠NDM, BM = DM\n",
      "Conclusions: △BCM ≅ △DNM\n",
      "\n",
      "Step 18:\n",
      "Theorem: Transtivity of Equivalence\n",
      "Premises : 0.49 = ∠MNT, ∠MND = ∠MNT\n",
      "Conclusions: 0.49 = ∠MND\n",
      "\n",
      "Step 19:\n",
      "Theorem: Congruent Definition\n",
      "Premises : △BCM ≅ △DNM\n",
      "Conclusions: ∠CBM = ∠NDM, BM = DM, ∠MCB = ∠MND\n",
      "\n",
      "Step 20:\n",
      "Theorem: Transtivity of Equivalence\n",
      "Premises : ∠MCB = ∠MND, 0.49 = ∠MND, ∠CAM = ∠MCB\n",
      "Conclusions: 0.49 = ∠CAM\n",
      "\n",
      "\n"
     ]
    }
   ],
   "source": [
    "# Minimal proof is a list of edges, we convert it to a sequence of natural language statements\n",
    "proof_in_nl = proof_graph_to_natural_language(minimal_proof, goal_node=sol_node, prune=True) # Prune=True removes redundant conclusions\n",
    "print(proof_in_nl)"
   ]
  },
  {
   "cell_type": "markdown",
   "id": "8777d7df",
   "metadata": {},
   "source": [
    "More details about problem reasoning stage can be found in [symbolic_reasoner/demo.ipynb](../symbolic_reasoner/demo.ipynb)"
   ]
  }
 ],
 "metadata": {
  "kernelspec": {
   "display_name": "autogps-test",
   "language": "python",
   "name": "python3"
  },
  "language_info": {
   "codemirror_mode": {
    "name": "ipython",
    "version": 3
   },
   "file_extension": ".py",
   "mimetype": "text/x-python",
   "name": "python",
   "nbconvert_exporter": "python",
   "pygments_lexer": "ipython3",
   "version": "3.12.9"
  }
 },
 "nbformat": 4,
 "nbformat_minor": 5
}
